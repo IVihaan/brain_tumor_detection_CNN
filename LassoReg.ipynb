{
  "nbformat": 4,
  "nbformat_minor": 0,
  "metadata": {
    "colab": {
      "provenance": [],
      "authorship_tag": "ABX9TyNGcFMxrpJR5saowFCEPg7w",
      "include_colab_link": true
    },
    "kernelspec": {
      "name": "python3",
      "display_name": "Python 3"
    },
    "language_info": {
      "name": "python"
    }
  },
  "cells": [
    {
      "cell_type": "markdown",
      "metadata": {
        "id": "view-in-github",
        "colab_type": "text"
      },
      "source": [
        "<a href=\"https://colab.research.google.com/github/thelimx/brain_tumor_detection_CNN/blob/main/LassoReg.ipynb\" target=\"_parent\"><img src=\"https://colab.research.google.com/assets/colab-badge.svg\" alt=\"Open In Colab\"/></a>"
      ]
    },
    {
      "cell_type": "code",
      "execution_count": null,
      "metadata": {
        "id": "YN6MkW_F4beE"
      },
      "outputs": [],
      "source": [
        "import numpy as np\n",
        "import pandas as pd\n",
        "from sklearn.linear_model import Lasso\n",
        "from sklearn.model_selection import LeaveOneOut\n",
        "from sklearn.metrics import mean_squared_error\n",
        "\n",
        "data = pd.read_csv('data.csv')\n",
        "\n",
        "X = data[['expression']].values\n",
        "y = data['cognition'].values\n",
        "\n",
        "alpha_value = 0.1  # Adjust this value as needed\n",
        "model = Lasso(alpha=alpha_value, random_state=42)\n",
        "\n",
        "loo = LeaveOneOut()\n",
        "scores = []\n",
        "\n",
        "for train_index, test_index in loo.split(X):\n",
        "    X_train, X_test = X[train_index], X[test_index]\n",
        "    y_train, y_test = y[train_index], y[test_index]\n",
        "\n",
        "    model.fit(X_train, y_train)\n",
        "\n",
        "    y_pred = model.predict(X_test)\n",
        "\n",
        "    scores.append(mean_squared_error(y_test, y_pred))\n",
        "\n",
        "mean_mse = np.mean(scores)\n",
        "print(f\"Average Mean Squared Error (LOOCV): {mean_mse:.4f}\")\n",
        "\n",
        "model.fit(X, y)\n",
        "\n",
        "print(\"Model Coefficient (Slope):\", model.coef_[0])\n",
        "print(\"Model Intercept:\", model.intercept_)\n"
      ]
    }
  ]
}